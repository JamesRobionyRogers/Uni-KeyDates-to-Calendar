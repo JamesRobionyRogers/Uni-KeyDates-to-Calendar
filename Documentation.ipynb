{
 "cells": [
  {
   "attachments": {},
   "cell_type": "markdown",
   "metadata": {},
   "source": [
    "# **University of Otago Key Dates to Calendar** \n",
    "\n",
    "Throughout this notebook, I will document the process I have taken to process the events from the [University of Otago's key dates page](https://www.otago.ac.nz/news/events/keydates/) in to Google Calendar events. Techniques I used included web scraping and OAuth authentication and making calls to Google Calendars API. \n",
    "\n",
    "## **Problem**\n",
    "\n",
    "The problem I was having was that I didnt want to have to go through Otago's key dates website and manually add all the events I needed to keep track of. So I devised a Python script to do it for me. \n"
   ]
  },
  {
   "attachments": {},
   "cell_type": "markdown",
   "metadata": {},
   "source": [
    "## **Set Up**\n",
    "\n",
    "First of all we need to install the packages we are going to use for this script. These include all of the Google authentication packages...\n",
    "\n",
    "`pip install google-auth google-auth-oauthlib google-auth-httplib2 google-api-python-client`\n",
    "\n",
    "Firther more, we need to import all the packages into our project"
   ]
  },
  {
   "cell_type": "code",
   "execution_count": 1,
   "metadata": {},
   "outputs": [],
   "source": [
    "# Importing modules for webscraping\n",
    "import requests\n",
    "from bs4 import BeautifulSoup\n",
    "from datetime import datetime\n",
    "\n",
    "# Importing modules for Google Calendar API\n",
    "from googleapiclient.discovery import build\n",
    "from googleapiclient.errors import HttpError"
   ]
  },
  {
   "attachments": {},
   "cell_type": "markdown",
   "metadata": {
    "vscode": {
     "languageId": "shellscript"
    }
   },
   "source": [
    "## **Web Scraping the Key Dates Page**\n",
    "\n",
    "After I installed all of the packages required, I got streight on to learning the python web scraping library `BeautifulSoup`. "
   ]
  },
  {
   "attachments": {},
   "cell_type": "markdown",
   "metadata": {},
   "source": [
    "Before we start processing the webpage, we need to use `requests` to get the page. We then follow this creating an instance of `BeautifulSoup`, passing in our responce. "
   ]
  },
  {
   "cell_type": "code",
   "execution_count": 2,
   "metadata": {},
   "outputs": [],
   "source": [
    "# Scraping the webpage and getting the data\n",
    "url = \"https://www.otago.ac.nz/news/events/keydates/\"\n",
    "responce = requests.get(url)\n",
    "soup = BeautifulSoup(responce.text, \"html.parser\")\n",
    "data = {}"
   ]
  },
  {
   "attachments": {},
   "cell_type": "markdown",
   "metadata": {},
   "source": [
    "#### **Processing the web page** \n",
    "\n",
    "From here we can start to process the page and extract all the elemetns we want. In our case, our months are stored under the selector `#content > div > h2`, and the tables containing the events stored under the selector `#content > div > dl`"
   ]
  },
  {
   "cell_type": "code",
   "execution_count": 3,
   "metadata": {},
   "outputs": [],
   "source": [
    "# Stores all the months\n",
    "months = soup.select(\"#content > div > h2\")\n",
    "\n",
    "# Stores all the Dates and Events from each month\n",
    "months_tables = soup.select(\"#content > div > dl\")\n",
    "\n",
    "# Processing the events into a dictionary\n",
    "for i in range(12):\n",
    "    month_key = months[i].text          # month text eg. \"January\"\n",
    "    month_events = months_tables[i]\n",
    "\n",
    "    # Appendng the events to the month key in the dictionary\n",
    "    data[month_key] = month_events\n",
    "\n",
    "# Iterate through each month and create a dictionaly of key = date and value = event\n",
    "for month in data:\n",
    "    events = data[month]\n",
    "    event_dict = {}\n",
    "\n",
    "    # Iterate over each dt and dd elements\n",
    "    for i in range(len(events.select(\"dt\"))):\n",
    "        date = events.select(\"dt\")[i].text\n",
    "        event = events.select(\"dd\")[i].text\n",
    "\n",
    "        # convert date to datetime object from this format: Monday, 9 January\n",
    "        date = datetime.strptime(date, \"%A, %d %B\").replace(year=2023)\n",
    "\n",
    "        # Append the date and event to the dictionary\n",
    "        event_dict[date] = event\n",
    "\n",
    "    # Replace the list of events with the dictionary\n",
    "    data[month] = event_dict"
   ]
  },
  {
   "attachments": {},
   "cell_type": "markdown",
   "metadata": {},
   "source": [
    "#### **Filtering the events** \n",
    "\n",
    "If you were to have a look through Otago's Key Dates you'll notice that they have a lot events there that do not apply to everyone. So I was now tasked with coming up with a way to filter through, leaving only the relevent events for me.\n",
    "\n",
    "Unfortunatly, my Python skills are not comprehensive enough and I struggled to find a solution to my problem. So, thanks to ChatGPT, for the help. "
   ]
  },
  {
   "cell_type": "code",
   "execution_count": 4,
   "metadata": {},
   "outputs": [],
   "source": [
    "# Defining a filter for events\n",
    "filter_words = ['fees', 'begin', 'end', 'semester']\n",
    "\n",
    "# Thanks for ChatGPT for this filter code\n",
    "# Creating a dict of events that do not contain any of the filter words\n",
    "filtered_events = {\n",
    "    month: {\n",
    "        date: event for date, event in events.items() if any(word in event for word in filter_words)\n",
    "    } for month, events in data.items()\n",
    "}"
   ]
  },
  {
   "attachments": {},
   "cell_type": "markdown",
   "metadata": {},
   "source": [
    "## **Processing Events using Google Calendar API**\n",
    "\n",
    "Now I had a dictionary of events that were ready to enter my calendar, all I had to do now was connect up Google Calendar's API and process all of them"
   ]
  },
  {
   "attachments": {},
   "cell_type": "markdown",
   "metadata": {},
   "source": [
    "#### **Authentication**\n",
    "\n",
    "Authentication was the first step. Without it, the script wouldn't know whos calendar to input the events into. Thankfully, Google Calendar provides a comprehensive [quickstart guide](https://developers.google.com/calendar/api/quickstart/python) that I modified to authenticate the user and retirive their credentials. "
   ]
  },
  {
   "cell_type": "code",
   "execution_count": 5,
   "metadata": {},
   "outputs": [],
   "source": [
    "# Modified from quickstart guide: https://developers.google.com/calendar/api/quickstart/python#prerequisites\n",
    "\n",
    "import os.path\n",
    "\n",
    "from google.auth.transport.requests import Request\n",
    "from google.oauth2.credentials import Credentials\n",
    "from google_auth_oauthlib.flow import InstalledAppFlow\n",
    "\n",
    "\n",
    "# @return Credentials object\n",
    "def authenticate():\n",
    "\n",
    "    # If modifying these scopes, delete the file token.json.\n",
    "    SCOPES = ['https://www.googleapis.com/auth/calendar']\n",
    "\n",
    "    creds = None\n",
    "\n",
    "    # The file token.json stores the user's access and refresh tokens, and is\n",
    "    # created automatically when the authorization flow completes for the first\n",
    "    # time.\n",
    "\n",
    "    # If there are existing credentials available, load them.\n",
    "    if os.path.exists('token.json'):\n",
    "        creds = Credentials.from_authorized_user_file('token.json', SCOPES)\n",
    "\n",
    "    # If there are no (valid) credentials available, let the user log in.\n",
    "    if not creds or not creds.valid:\n",
    "        # Checking if creds are expired and refreshing them if they are\n",
    "        if creds and creds.expired and creds.refresh_token:\n",
    "            creds.refresh(Request())\n",
    "        else:\n",
    "            # Running a local server for authentication and authorization\n",
    "            flow = InstalledAppFlow.from_client_secrets_file('credentials.json', SCOPES)\n",
    "            creds = flow.run_local_server(port=0)\n",
    "\n",
    "            # Save the credentials to file for the next run\n",
    "            with open('token.json', 'w') as token:\n",
    "                token.write(creds.to_json())\n",
    "\n",
    "    return creds"
   ]
  },
  {
   "attachments": {},
   "cell_type": "markdown",
   "metadata": {},
   "source": [
    "### **Processing Events and Executing them on the API**\n",
    "\n",
    "Now that I have defined a method for authenticating the user, I can now sore the credentials and proceed onto processing the events into the calendar \n",
    "\n",
    "From here I can iterate over the months (line 12), and then over the events inside the month (line 16) to create an event I can insert into the calendar via calling the `execute()` method API. "
   ]
  },
  {
   "cell_type": "code",
   "execution_count": null,
   "metadata": {},
   "outputs": [],
   "source": [
    "# Authenticating the user via local webserver and building the service\n",
    "creds = authenticate()\n",
    "\n",
    "# Try to create the service followed by the resulting events\n",
    "try:\n",
    "    # Calendar to insert event into: 'UoO Key Dates'\n",
    "    calendar_id = 'fe37442ef0332cbc52ec1e0e61f1b966e5b7e3c5d4c1ab0ce860789253b2bc38@group.calendar.google.com'\n",
    "\n",
    "    service = build('calendar', 'v3', credentials=creds)\n",
    "\n",
    "    # Iterating over the data dict storing the months and events\n",
    "    for month, events in filtered_events.items():\n",
    "\n",
    "        print(\"\\n\", month)\n",
    "\n",
    "        for date, event_title in events.items():\n",
    "            event = {\n",
    "                'summary': f'{event_title}',\n",
    "                'location': 'University of Otago, 362 Leith Street, Dunedin North, Dunedin 9016, New Zealand',\n",
    "                # 'description': '',\n",
    "                'start': {\n",
    "                    'date': f'{date.date()}',\n",
    "                },\n",
    "                'end': {\n",
    "                    'date': f'{date.date()}',\n",
    "                },\n",
    "                'transparency': 'transparent',\n",
    "                'visibility': 'public'\n",
    "            }\n",
    "\n",
    "            # Executing the event creation\n",
    "            event = service.events().insert(calendarId=calendar_id, body=event).execute()\n",
    "            print(f\"Event created: {event.get('htmlLink')}\")\n",
    "\n",
    "            # TESTING: Printing the filtered events\n",
    "            # print(event)\n",
    "\n",
    "except HttpError as error:\n",
    "    print(f'[ERROR] : {error}')\n"
   ]
  },
  {
   "attachments": {},
   "cell_type": "markdown",
   "metadata": {},
   "source": [
    "## **Conclution** \n",
    "\n",
    "In conclution, this mini project took way longer to create than it would have taken to manually input all the relevant events for each of the 3 years I am studying at Otago. None the less, It was a good little project to prictice using Python and learn a it more about web scraping, OAuth authentication and calling APIs. "
   ]
  },
  {
   "attachments": {},
   "cell_type": "markdown",
   "metadata": {},
   "source": [
    "#### **Further Improvement**\n",
    "\n",
    "Here are a couple of improvements I would like to make to this project in the future\n",
    "\n",
    "1. Create improvements on the filter as there are still some irralevant events being added to the calendar\n",
    "   -  Could be done through removing events that contain certain words from the already filtered events"
   ]
  },
  {
   "attachments": {},
   "cell_type": "markdown",
   "metadata": {},
   "source": [
    "###### **James Robiony-Rogers - February 2023**"
   ]
  }
 ],
 "metadata": {
  "kernelspec": {
   "display_name": "Python 3",
   "language": "python",
   "name": "python3"
  },
  "language_info": {
   "codemirror_mode": {
    "name": "ipython",
    "version": 3
   },
   "file_extension": ".py",
   "mimetype": "text/x-python",
   "name": "python",
   "nbconvert_exporter": "python",
   "pygments_lexer": "ipython3",
   "version": "3.9.13"
  },
  "orig_nbformat": 4,
  "vscode": {
   "interpreter": {
    "hash": "a665b5d41d17b532ea9890333293a1b812fa0b73c9c25c950b3cedf1bebd0438"
   }
  }
 },
 "nbformat": 4,
 "nbformat_minor": 2
}
